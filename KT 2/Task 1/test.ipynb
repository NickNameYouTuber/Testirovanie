{
 "cells": [
  {
   "metadata": {
    "ExecuteTime": {
     "end_time": "2024-10-21T12:52:45.823322Z",
     "start_time": "2024-10-21T12:52:45.749312Z"
    }
   },
   "cell_type": "code",
   "source": "import pytest",
   "id": "88025b170069a272",
   "outputs": [],
   "execution_count": 2
  },
  {
   "metadata": {
    "ExecuteTime": {
     "end_time": "2024-10-21T13:17:57.095734Z",
     "start_time": "2024-10-21T13:17:56.621602Z"
    }
   },
   "cell_type": "code",
   "source": "!pytest tests.py",
   "id": "fe4bb6e4239f04a5",
   "outputs": [
    {
     "name": "stdout",
     "output_type": "stream",
     "text": [
      "\u001B[1m============================= test session starts =============================\u001B[0m\n",
      "platform win32 -- Python 3.11.9, pytest-8.3.3, pluggy-1.5.0\n",
      "rootdir: C:\\Users\\Nick\\PycharmProjects\\Testirovanie\\KT 2\\Task 1\n",
      "plugins: anyio-4.4.0\n",
      "collected 1 item\n",
      "\n",
      "tests.py \u001B[31mF\u001B[0m\u001B[31m                                                               [100%]\u001B[0m\n",
      "\n",
      "================================== FAILURES ===================================\n",
      "\u001B[31m\u001B[1m________________________ test_calculate_average_grade _________________________\u001B[0m\n",
      "\n",
      "grades_data = [['Last name', ' \"First name\"', ' \"SSN\"', '        \"Test1\"', ' \"Test2\"', ' \"Test3\"', ...], ['Alfalfa', '   \"Aloysius\"'...  23.0', '    36.0', ...], ['Bumpkin', '   \"Fred\"', '       \"456-78-9012\"', ' 43.0', '    78.0', '    88.0', ...], ...]\n",
      "\n",
      "    \u001B[0m\u001B[94mdef\u001B[39;49;00m \u001B[92mtest_calculate_average_grade\u001B[39;49;00m(grades_data):\u001B[90m\u001B[39;49;00m\n",
      "        actual = calculate_average_grade(grades_data)\u001B[90m\u001B[39;49;00m\n",
      "        expected = [\u001B[94m78.25\u001B[39;49;00m, \u001B[94m48.0\u001B[39;49;00m, \u001B[94m44.0\u001B[39;49;00m, \u001B[94m47.0\u001B[39;49;00m, \u001B[94m45.0\u001B[39;49;00m, \u001B[94m46.0\u001B[39;49;00m, \u001B[94m43.0\u001B[39;49;00m, \u001B[94m50.0\u001B[39;49;00m, \u001B[94m83.0\u001B[39;49;00m, \u001B[94m97.0\u001B[39;49;00m, \u001B[94m40.0\u001B[39;49;00m, \u001B[94m45.0\u001B[39;49;00m, \u001B[94m77.0\u001B[39;49;00m, \u001B[94m90.0\u001B[39;49;00m, \u001B[94m4.0\u001B[39;49;00m, \u001B[94m40.0\u001B[39;49;00m, \u001B[94m10\u001B[39;49;00m]\u001B[90m\u001B[39;49;00m\n",
      "    \u001B[90m\u001B[39;49;00m\n",
      "        \u001B[96mprint\u001B[39;49;00m(\u001B[33mf\u001B[39;49;00m\u001B[33m'\u001B[39;49;00m\u001B[33mActual: \u001B[39;49;00m\u001B[33m{\u001B[39;49;00m\u001B[96mlen\u001B[39;49;00m(actual)\u001B[33m}\u001B[39;49;00m\u001B[33m | Expected: \u001B[39;49;00m\u001B[33m{\u001B[39;49;00m\u001B[96mlen\u001B[39;49;00m(expected)\u001B[33m}\u001B[39;49;00m\u001B[33m'\u001B[39;49;00m)\u001B[90m\u001B[39;49;00m\n",
      "        \u001B[94mfor\u001B[39;49;00m i \u001B[95min\u001B[39;49;00m \u001B[96mrange\u001B[39;49;00m(\u001B[96mlen\u001B[39;49;00m(actual)):\u001B[90m\u001B[39;49;00m\n",
      "            \u001B[94mif\u001B[39;49;00m actual[i] != expected[i]:\u001B[90m\u001B[39;49;00m\n",
      "                \u001B[96mprint\u001B[39;49;00m(\u001B[33mf\u001B[39;49;00m\u001B[33m'\u001B[39;49;00m\u001B[33mWrong value: actual \u001B[39;49;00m\u001B[33m{\u001B[39;49;00mactual[i]\u001B[33m}\u001B[39;49;00m\u001B[33m | expected \u001B[39;49;00m\u001B[33m{\u001B[39;49;00mexpected[i]\u001B[33m}\u001B[39;49;00m\u001B[33m'\u001B[39;49;00m)\u001B[90m\u001B[39;49;00m\n",
      "            \u001B[94melse\u001B[39;49;00m:\u001B[90m\u001B[39;49;00m\n",
      "                \u001B[96mprint\u001B[39;49;00m(\u001B[33mf\u001B[39;49;00m\u001B[33m'\u001B[39;49;00m\u001B[33mCorrect: \u001B[39;49;00m\u001B[33m{\u001B[39;49;00mactual[i]\u001B[33m}\u001B[39;49;00m\u001B[33m'\u001B[39;49;00m)\u001B[90m\u001B[39;49;00m\n",
      "    \u001B[90m\u001B[39;49;00m\n",
      ">       \u001B[94massert\u001B[39;49;00m actual == expected\u001B[90m\u001B[39;49;00m\n",
      "\u001B[1m\u001B[31mE       assert [78.25, 82.75....5, 76.0, ...] == [78.25, 48.0,....0, 46.0, ...]\u001B[0m\n",
      "\u001B[1m\u001B[31mE         \u001B[0m\n",
      "\u001B[1m\u001B[31mE         At index 1 diff: \u001B[0m\u001B[94m82.75\u001B[39;49;00m\u001B[90m\u001B[39;49;00m != \u001B[0m\u001B[94m48.0\u001B[39;49;00m\u001B[90m\u001B[39;49;00m\u001B[0m\n",
      "\u001B[1m\u001B[31mE         Use -v to get more diff\u001B[0m\n",
      "\n",
      "\u001B[1m\u001B[31mtests.py\u001B[0m:19: AssertionError\n",
      "---------------------------- Captured stdout call -----------------------------\n",
      " 40.0     90.0    100.0     83.0\n",
      " 41.0     97.0     96.0     97.0\n",
      " 41.0     80.0     60.0     40.0\n",
      " 42.0     23.0     36.0     45.0\n",
      " 43.0     78.0     88.0     77.0\n",
      " 44.0     90.0     80.0     90.0\n",
      " 45.0     11.0     -1.0      4.0\n",
      " 46.0     20.0     30.0     40.0\n",
      " 49.0       1.0     90.0    100.0\n",
      " 48.0      1.0     97.0     96.0\n",
      " 44.0      1.0     80.0     60.0\n",
      " 47.0      1.0     23.0     36.0\n",
      " 45.0      1.0     78.0     88.0\n",
      " 50.0      1.0     90.0     80.0\n",
      " 40.0      1.0     11.0     -1.0\n",
      " 30.0      1.0     20.0     30.0\n",
      " 10.0      10.0     20.0     5.0\n",
      "Actual: 17 | Expected: 17\n",
      "Correct: 78.25\n",
      "Wrong value: actual 82.75 | expected 48.0\n",
      "Wrong value: actual 55.25 | expected 44.0\n",
      "Wrong value: actual 36.5 | expected 47.0\n",
      "Wrong value: actual 71.5 | expected 45.0\n",
      "Wrong value: actual 76.0 | expected 46.0\n",
      "Wrong value: actual 14.75 | expected 43.0\n",
      "Wrong value: actual 34.0 | expected 50.0\n",
      "Wrong value: actual 60.0 | expected 83.0\n",
      "Wrong value: actual 60.5 | expected 97.0\n",
      "Wrong value: actual 46.25 | expected 40.0\n",
      "Wrong value: actual 26.75 | expected 45.0\n",
      "Wrong value: actual 53.0 | expected 77.0\n",
      "Wrong value: actual 55.25 | expected 90.0\n",
      "Wrong value: actual 12.75 | expected 4.0\n",
      "Wrong value: actual 20.25 | expected 40.0\n",
      "Wrong value: actual 11.25 | expected 10\n",
      "\u001B[36m\u001B[1m=========================== short test summary info ===========================\u001B[0m\n",
      "\u001B[31mFAILED\u001B[0m tests.py::\u001B[1mtest_calculate_average_grade\u001B[0m - assert [78.25, 82.75....5, 76.0, ...] == [78.25, 48.0,....0, 46.0, ...]\n",
      "\u001B[31m============================== \u001B[31m\u001B[1m1 failed\u001B[0m\u001B[31m in 0.11s\u001B[0m\u001B[31m ==============================\u001B[0m\n"
     ]
    }
   ],
   "execution_count": 24
  },
  {
   "metadata": {},
   "cell_type": "code",
   "outputs": [],
   "execution_count": null,
   "source": "",
   "id": "dd3bddd5be87f55d"
  }
 ],
 "metadata": {
  "kernelspec": {
   "display_name": "Python 3",
   "language": "python",
   "name": "python3"
  },
  "language_info": {
   "codemirror_mode": {
    "name": "ipython",
    "version": 2
   },
   "file_extension": ".py",
   "mimetype": "text/x-python",
   "name": "python",
   "nbconvert_exporter": "python",
   "pygments_lexer": "ipython2",
   "version": "2.7.6"
  }
 },
 "nbformat": 4,
 "nbformat_minor": 5
}
