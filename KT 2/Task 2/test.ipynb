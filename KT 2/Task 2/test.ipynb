{
 "cells": [
  {
   "cell_type": "code",
   "id": "initial_id",
   "metadata": {
    "collapsed": true,
    "ExecuteTime": {
     "end_time": "2024-10-21T13:21:05.875782Z",
     "start_time": "2024-10-21T13:21:05.800225Z"
    }
   },
   "source": "import pytest",
   "outputs": [],
   "execution_count": 1
  },
  {
   "metadata": {
    "ExecuteTime": {
     "end_time": "2024-10-24T09:59:13.424083Z",
     "start_time": "2024-10-24T09:59:13.031600Z"
    }
   },
   "cell_type": "code",
   "source": "!pytest tests.py",
   "id": "534d8418f46779c5",
   "outputs": [
    {
     "name": "stdout",
     "output_type": "stream",
     "text": [
      "\u001B[1m============================= test session starts =============================\u001B[0m\n",
      "platform win32 -- Python 3.11.9, pytest-8.3.3, pluggy-1.5.0\n",
      "rootdir: C:\\Users\\Nick\\PycharmProjects\\Testirovanie\\KT 2\\Task 2\n",
      "plugins: anyio-4.4.0\n",
      "collected 3 items\n",
      "\n",
      "tests.py \u001B[32m.\u001B[0m\u001B[32m.\u001B[0m\u001B[32m.\u001B[0m\u001B[32m                                                             [100%]\u001B[0m\n",
      "\n",
      "\u001B[32m============================== \u001B[32m\u001B[1m3 passed\u001B[0m\u001B[32m in 0.02s\u001B[0m\u001B[32m ==============================\u001B[0m\n"
     ]
    }
   ],
   "execution_count": 2
  },
  {
   "metadata": {
    "ExecuteTime": {
     "end_time": "2024-10-24T10:18:16.922164Z",
     "start_time": "2024-10-24T10:18:11.261485Z"
    }
   },
   "cell_type": "code",
   "source": "!pip install pytest-cov",
   "id": "500aa94b9689f3be",
   "outputs": [
    {
     "name": "stdout",
     "output_type": "stream",
     "text": [
      "Collecting pytest-cov\n",
      "  Downloading pytest_cov-5.0.0-py3-none-any.whl.metadata (27 kB)\n",
      "Requirement already satisfied: pytest>=4.6 in c:\\users\\nick\\appdata\\local\\programs\\python\\python311\\lib\\site-packages (from pytest-cov) (8.3.3)\n",
      "Collecting coverage>=5.2.1 (from coverage[toml]>=5.2.1->pytest-cov)\n",
      "  Downloading coverage-7.6.4-cp311-cp311-win_amd64.whl.metadata (8.4 kB)\n",
      "Requirement already satisfied: iniconfig in c:\\users\\nick\\appdata\\local\\programs\\python\\python311\\lib\\site-packages (from pytest>=4.6->pytest-cov) (2.0.0)\n",
      "Requirement already satisfied: packaging in c:\\users\\nick\\appdata\\local\\programs\\python\\python311\\lib\\site-packages (from pytest>=4.6->pytest-cov) (23.2)\n",
      "Requirement already satisfied: pluggy<2,>=1.5 in c:\\users\\nick\\appdata\\local\\programs\\python\\python311\\lib\\site-packages (from pytest>=4.6->pytest-cov) (1.5.0)\n",
      "Requirement already satisfied: colorama in c:\\users\\nick\\appdata\\local\\programs\\python\\python311\\lib\\site-packages (from pytest>=4.6->pytest-cov) (0.4.6)\n",
      "Downloading pytest_cov-5.0.0-py3-none-any.whl (21 kB)\n",
      "Downloading coverage-7.6.4-cp311-cp311-win_amd64.whl (210 kB)\n",
      "   ---------------------------------------- 0.0/210.2 kB ? eta -:--:--\n",
      "   ------- ------------------------------- 41.0/210.2 kB 991.0 kB/s eta 0:00:01\n",
      "   ------------------- -------------------- 102.4/210.2 kB 1.2 MB/s eta 0:00:01\n",
      "   ---------------------------------------- 210.2/210.2 kB 1.6 MB/s eta 0:00:00\n",
      "Installing collected packages: coverage, pytest-cov\n",
      "Successfully installed coverage-7.6.4 pytest-cov-5.0.0\n"
     ]
    },
    {
     "name": "stderr",
     "output_type": "stream",
     "text": [
      "\n",
      "[notice] A new release of pip is available: 24.0 -> 24.2\n",
      "[notice] To update, run: C:\\Users\\Nick\\AppData\\Local\\Programs\\Python\\Python311\\python.exe -m pip install --upgrade pip\n"
     ]
    }
   ],
   "execution_count": 5
  },
  {
   "metadata": {
    "ExecuteTime": {
     "end_time": "2024-10-24T10:19:00.771951Z",
     "start_time": "2024-10-24T10:19:00.766058Z"
    }
   },
   "cell_type": "code",
   "source": "",
   "id": "4cec8ad70b063e92",
   "outputs": [
    {
     "ename": "SyntaxError",
     "evalue": "invalid syntax (3256298357.py, line 1)",
     "output_type": "error",
     "traceback": [
      "\u001B[1;36m  Cell \u001B[1;32mIn[7], line 1\u001B[1;36m\u001B[0m\n\u001B[1;33m    import pytest-cov\u001B[0m\n\u001B[1;37m                 ^\u001B[0m\n\u001B[1;31mSyntaxError\u001B[0m\u001B[1;31m:\u001B[0m invalid syntax\n"
     ]
    }
   ],
   "execution_count": 7
  },
  {
   "metadata": {
    "ExecuteTime": {
     "end_time": "2024-10-24T10:20:01.696452Z",
     "start_time": "2024-10-24T10:20:00.509477Z"
    }
   },
   "cell_type": "code",
   "source": "!pytest tests.py",
   "id": "4a115f072246e3fa",
   "outputs": [
    {
     "name": "stdout",
     "output_type": "stream",
     "text": [
      "\u001B[1m============================= test session starts =============================\u001B[0m\n",
      "platform win32 -- Python 3.11.9, pytest-8.3.3, pluggy-1.5.0\n",
      "rootdir: C:\\Users\\Nick\\PycharmProjects\\Testirovanie\\KT 2\\Task 2\n",
      "plugins: anyio-4.4.0, cov-5.0.0, sugar-1.0.0\n",
      "collected 3 items\n",
      "\n",
      "tests.py \u001B[32m.\u001B[0m\u001B[32m.\u001B[0m\u001B[31mF\u001B[0m\u001B[31m                                                             [100%]\u001B[0m\n",
      "\n",
      "================================== FAILURES ===================================\n",
      "\u001B[31m\u001B[1m_______________________________ test_sort_json ________________________________\u001B[0m\n",
      "\n",
      "initial_data = {'active': True, 'formed': 2016, 'homeTown': 'Metro City', 'members': [{'age': 29, 'name': 'Molecule Man', 'powers': [...ortality', 'Heat Immunity', 'Inferno', 'Teleportation', 'Interdimensional travel'], 'secretIdentity': 'Unknown'}], ...}\n",
      "new_superheroes = [{'age': 32, 'name': 'Superchel', 'powers': ['Super speed', 'Super power'], 'secretIdentity': 'Cool chel'}, {'age': 19, 'name': 'XZ Kto', 'powers': ['Super lazy'], 'secretIdentity': 'Azizov Aziz'}]\n",
      "\n",
      "    \u001B[0m\u001B[94mdef\u001B[39;49;00m \u001B[92mtest_sort_json\u001B[39;49;00m(initial_data, new_superheroes):\u001B[90m\u001B[39;49;00m\n",
      "        save_json_to_file(initial_data, \u001B[33m\"\u001B[39;49;00m\u001B[33msuperhero_new.json\u001B[39;49;00m\u001B[33m\"\u001B[39;49;00m)\u001B[90m\u001B[39;49;00m\n",
      "        add_json_to_file(\u001B[33m\"\u001B[39;49;00m\u001B[33msuperhero_new.json\u001B[39;49;00m\u001B[33m\"\u001B[39;49;00m, new_superheroes)\u001B[90m\u001B[39;49;00m\n",
      "        sort_json(\u001B[33m\"\u001B[39;49;00m\u001B[33msuperhero_new.json\u001B[39;49;00m\u001B[33m\"\u001B[39;49;00m)\u001B[90m\u001B[39;49;00m\n",
      "        actual = get_json_from_file(\u001B[33m\"\u001B[39;49;00m\u001B[33msuperhero_new.json\u001B[39;49;00m\u001B[33m\"\u001B[39;49;00m)\u001B[90m\u001B[39;49;00m\n",
      "    \u001B[90m\u001B[39;49;00m\n",
      "        \u001B[94massert\u001B[39;49;00m actual[\u001B[33m'\u001B[39;49;00m\u001B[33mmembers\u001B[39;49;00m\u001B[33m'\u001B[39;49;00m][\u001B[94m0\u001B[39;49;00m][\u001B[33m'\u001B[39;49;00m\u001B[33mage\u001B[39;49;00m\u001B[33m'\u001B[39;49;00m] < actual[\u001B[33m'\u001B[39;49;00m\u001B[33mmembers\u001B[39;49;00m\u001B[33m'\u001B[39;49;00m][\u001B[94m1\u001B[39;49;00m][\u001B[33m'\u001B[39;49;00m\u001B[33mage\u001B[39;49;00m\u001B[33m'\u001B[39;49;00m]\u001B[90m\u001B[39;49;00m\n",
      "        \u001B[94massert\u001B[39;49;00m actual[\u001B[33m'\u001B[39;49;00m\u001B[33mmembers\u001B[39;49;00m\u001B[33m'\u001B[39;49;00m][\u001B[94m1\u001B[39;49;00m][\u001B[33m'\u001B[39;49;00m\u001B[33mage\u001B[39;49;00m\u001B[33m'\u001B[39;49;00m] < actual[\u001B[33m'\u001B[39;49;00m\u001B[33mmembers\u001B[39;49;00m\u001B[33m'\u001B[39;49;00m][\u001B[94m2\u001B[39;49;00m][\u001B[33m'\u001B[39;49;00m\u001B[33mage\u001B[39;49;00m\u001B[33m'\u001B[39;49;00m]\u001B[90m\u001B[39;49;00m\n",
      "        \u001B[94massert\u001B[39;49;00m actual[\u001B[33m'\u001B[39;49;00m\u001B[33mmembers\u001B[39;49;00m\u001B[33m'\u001B[39;49;00m][\u001B[94m2\u001B[39;49;00m][\u001B[33m'\u001B[39;49;00m\u001B[33mage\u001B[39;49;00m\u001B[33m'\u001B[39;49;00m] < actual[\u001B[33m'\u001B[39;49;00m\u001B[33mmembers\u001B[39;49;00m\u001B[33m'\u001B[39;49;00m][\u001B[94m3\u001B[39;49;00m][\u001B[33m'\u001B[39;49;00m\u001B[33mage\u001B[39;49;00m\u001B[33m'\u001B[39;49;00m]\u001B[90m\u001B[39;49;00m\n",
      ">       \u001B[94massert\u001B[39;49;00m actual[\u001B[33m'\u001B[39;49;00m\u001B[33mmembers\u001B[39;49;00m\u001B[33m'\u001B[39;49;00m][\u001B[94m3\u001B[39;49;00m][\u001B[33m'\u001B[39;49;00m\u001B[33mage\u001B[39;49;00m\u001B[33m'\u001B[39;49;00m] < actual[\u001B[33m'\u001B[39;49;00m\u001B[33mmembers\u001B[39;49;00m\u001B[33m'\u001B[39;49;00m][\u001B[94m5\u001B[39;49;00m][\u001B[33m'\u001B[39;49;00m\u001B[33mage\u001B[39;49;00m\u001B[33m'\u001B[39;49;00m]\u001B[90m\u001B[39;49;00m\n",
      "\u001B[1m\u001B[31mE       IndexError: list index out of range\u001B[0m\n",
      "\n",
      "\u001B[1m\u001B[31mtests.py\u001B[0m:142: IndexError\n",
      "---------------------------- Captured stdout call -----------------------------\n",
      "Data saved to superhero_new.json\n",
      "[{'name': 'Superchel', 'age': 32, 'secretIdentity': 'Cool chel', 'powers': ['Super speed', 'Super power']}, {'name': 'XZ Kto', 'age': 19, 'secretIdentity': 'Azizov Aziz', 'powers': ['Super lazy']}]\n",
      "Data saved to superhero_new.json\n",
      "Data saved to superhero_new.json\n",
      "\u001B[36m\u001B[1m=========================== short test summary info ===========================\u001B[0m\n",
      "\u001B[31mFAILED\u001B[0m tests.py::\u001B[1mtest_sort_json\u001B[0m - IndexError: list index out of range\n",
      "\u001B[31m========================= \u001B[31m\u001B[1m1 failed\u001B[0m, \u001B[32m2 passed\u001B[0m\u001B[31m in 0.29s\u001B[0m\u001B[31m =========================\u001B[0m\n"
     ]
    }
   ],
   "execution_count": 8
  },
  {
   "metadata": {},
   "cell_type": "code",
   "outputs": [],
   "execution_count": null,
   "source": "",
   "id": "bc4fb96c6f8b673c"
  }
 ],
 "metadata": {
  "kernelspec": {
   "display_name": "Python 3",
   "language": "python",
   "name": "python3"
  },
  "language_info": {
   "codemirror_mode": {
    "name": "ipython",
    "version": 2
   },
   "file_extension": ".py",
   "mimetype": "text/x-python",
   "name": "python",
   "nbconvert_exporter": "python",
   "pygments_lexer": "ipython2",
   "version": "2.7.6"
  }
 },
 "nbformat": 4,
 "nbformat_minor": 5
}
